{
  "nbformat": 4,
  "nbformat_minor": 0,
  "metadata": {
    "colab": {
      "name": "Huber Regression on Synthetic dataset.ipynb",
      "provenance": [],
      "authorship_tag": "ABX9TyNvsjIrEtsPnMoerBM4TmFh",
      "include_colab_link": true
    },
    "kernelspec": {
      "name": "python3",
      "display_name": "Python 3"
    },
    "language_info": {
      "name": "python"
    }
  },
  "cells": [
    {
      "cell_type": "markdown",
      "metadata": {
        "id": "view-in-github",
        "colab_type": "text"
      },
      "source": [
        "<a href=\"https://colab.research.google.com/github/JP109/Supervised-Learning-Algorithms-practise/blob/main/Regression%20Algorithms/Huber_Regression_on_Synthetic_dataset.ipynb\" target=\"_parent\"><img src=\"https://colab.research.google.com/assets/colab-badge.svg\" alt=\"Open In Colab\"/></a>"
      ]
    },
    {
      "cell_type": "code",
      "metadata": {
        "id": "J3ceFP-JtdJR"
      },
      "source": [
        "from random import random\n",
        "from random import randint\n",
        "from random import seed\n",
        "from numpy import arange\n",
        "from numpy import mean\n",
        "from numpy import std\n",
        "from numpy import absolute\n",
        "from sklearn.datasets import make_regression\n",
        "from sklearn.linear_model import HuberRegressor\n",
        "from sklearn.model_selection import cross_val_score\n",
        "from sklearn.model_selection import RepeatedKFold\n",
        "from matplotlib import pyplot\n",
        " \n",
        "# prepare the dataset\n",
        "def get_dataset():\n",
        "\tX, y = make_regression(n_samples=100, n_features=1, tail_strength=0.9, effective_rank=1, n_informative=1, noise=3, bias=50, random_state=1)\n",
        "\t# add some artificial outliers\n",
        "\tseed(1)\n",
        "\tfor i in range(10):\n",
        "\t\tfactor = randint(2, 4)\n",
        "\t\tif random() > 0.5:\n",
        "\t\t\tX[i] += factor * X.std()\n",
        "\t\telse:\n",
        "\t\t\tX[i] -= factor * X.std()\n",
        "\treturn X, y\n",
        " \n",
        "# evaluate a model\n",
        "def evaluate_model(X, y, model):\n",
        "\t# define model evaluation method\n",
        "\tcv = RepeatedKFold(n_splits=10, n_repeats=3, random_state=1)\n",
        "\t# evaluate model\n",
        "\tscores = cross_val_score(model, X, y, scoring='neg_mean_absolute_error', cv=cv, n_jobs=-1)\n",
        "\t# force scores to be positive\n",
        "\treturn absolute(scores)\n",
        " \n",
        "# plot the dataset and the model's line of best fit\n",
        "def plot_best_fit(X, y, model):\n",
        "\t# fut the model on all data\n",
        "\tmodel.fit(X, y)\n",
        "\t# plot the dataset\n",
        "\tpyplot.scatter(X, y)\n",
        "\t# plot the line of best fit\n",
        "\txaxis = arange(X.min(), X.max(), 0.01)\n",
        "\tyaxis = model.predict(xaxis.reshape((len(xaxis), 1)))\n",
        "\tpyplot.plot(xaxis, yaxis, color='r')\n",
        "\t# show the plot\n",
        "\tpyplot.title(type(model).__name__)\n",
        "\tpyplot.show()"
      ],
      "execution_count": 3,
      "outputs": []
    },
    {
      "cell_type": "code",
      "metadata": {
        "colab": {
          "base_uri": "https://localhost:8080/",
          "height": 298
        },
        "id": "xZk94hW8Tv_h",
        "outputId": "50fff481-e93e-43cb-8cfb-aab6687c34b5"
      },
      "source": [
        "# load dataset\n",
        "X, y = get_dataset()\n",
        "# define the model\n",
        "model = HuberRegressor()\n",
        "# evaluate model\n",
        "results = evaluate_model(X, y, model)\n",
        "print('Mean MAE: %.3f (%.3f)' % (mean(results), std(results)))\n",
        "# plot the line of best fit\n",
        "plot_best_fit(X, y, model)"
      ],
      "execution_count": 4,
      "outputs": [
        {
          "output_type": "stream",
          "name": "stdout",
          "text": [
            "Mean MAE: 4.435 (1.868)\n"
          ]
        },
        {
          "output_type": "display_data",
          "data": {
            "image/png": "[encoded data removed]",
            "text/plain": [
              "<Figure size 432x288 with 1 Axes>"
            ]
          },
          "metadata": {
            "needs_background": "light"
          }
        }
      ]
    }
  ]
}